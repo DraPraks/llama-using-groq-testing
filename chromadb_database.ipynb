{
 "cells": [
  {
   "cell_type": "code",
   "id": "initial_id",
   "metadata": {
    "collapsed": true,
    "ExecuteTime": {
     "end_time": "2024-10-23T17:12:36.809697Z",
     "start_time": "2024-10-23T17:12:35.866625Z"
    }
   },
   "source": [
    "import chromadb\n",
    "chroma_client = chromadb.Client()"
   ],
   "outputs": [],
   "execution_count": 1
  },
  {
   "metadata": {
    "ExecuteTime": {
     "end_time": "2024-10-23T17:15:01.459433Z",
     "start_time": "2024-10-23T17:15:01.444835Z"
    }
   },
   "cell_type": "code",
   "source": "collection3 = chroma_client.create_collection(name=\"collection3\")",
   "id": "52846703671ec4fb",
   "outputs": [],
   "execution_count": 7
  },
  {
   "metadata": {
    "ExecuteTime": {
     "end_time": "2024-10-23T17:20:50.912879Z",
     "start_time": "2024-10-23T17:15:23.012859Z"
    }
   },
   "cell_type": "code",
   "source": [
    "collection3.add(\n",
    "    documents=[\n",
    "        'This test document is about Shanghai',\n",
    "        'This test document is about Jakarta'\n",
    "    ],\n",
    "    ids = ['id1', 'id2']\n",
    ")"
   ],
   "id": "6bf39e63c8b1372f",
   "outputs": [
    {
     "name": "stderr",
     "output_type": "stream",
     "text": [
      "C:\\Users\\prako\\.cache\\chroma\\onnx_models\\all-MiniLM-L6-v2\\onnx.tar.gz: 100%|██████████| 79.3M/79.3M [05:26<00:00, 255kiB/s]   \n"
     ]
    }
   ],
   "execution_count": 9
  },
  {
   "metadata": {
    "ExecuteTime": {
     "end_time": "2024-10-23T17:21:12.561356Z",
     "start_time": "2024-10-23T17:21:12.544839Z"
    }
   },
   "cell_type": "code",
   "source": [
    "all_docs = collection3.get()\n",
    "all_docs"
   ],
   "id": "63c2a9af667e5771",
   "outputs": [
    {
     "data": {
      "text/plain": [
       "{'ids': ['id1', 'id2'],\n",
       " 'embeddings': None,\n",
       " 'documents': ['This test document is about Shanghai',\n",
       "  'This test document is about Jakarta'],\n",
       " 'uris': None,\n",
       " 'data': None,\n",
       " 'metadatas': [None, None],\n",
       " 'included': [<IncludeEnum.documents: 'documents'>,\n",
       "  <IncludeEnum.metadatas: 'metadatas'>]}"
      ]
     },
     "execution_count": 10,
     "metadata": {},
     "output_type": "execute_result"
    }
   ],
   "execution_count": 10
  },
  {
   "metadata": {
    "ExecuteTime": {
     "end_time": "2024-10-23T17:21:18.936159Z",
     "start_time": "2024-10-23T17:21:18.924148Z"
    }
   },
   "cell_type": "code",
   "source": [
    "documents = collection3.get(ids=['id1'])\n",
    "documents"
   ],
   "id": "7a769ec4a76cc6c9",
   "outputs": [
    {
     "data": {
      "text/plain": [
       "{'ids': ['id1'],\n",
       " 'embeddings': None,\n",
       " 'documents': ['This test document is about Shanghai'],\n",
       " 'uris': None,\n",
       " 'data': None,\n",
       " 'metadatas': [None],\n",
       " 'included': [<IncludeEnum.documents: 'documents'>,\n",
       "  <IncludeEnum.metadatas: 'metadatas'>]}"
      ]
     },
     "execution_count": 11,
     "metadata": {},
     "output_type": "execute_result"
    }
   ],
   "execution_count": 11
  },
  {
   "metadata": {
    "ExecuteTime": {
     "end_time": "2024-10-23T17:21:44.630302Z",
     "start_time": "2024-10-23T17:21:44.592267Z"
    }
   },
   "cell_type": "code",
   "source": [
    "results = collection3.query(\n",
    "    query_texts=['Query is about Indonesia'], # we can look up documents by providing stuff related to the documents, Vectors! \n",
    "    # (this uses Euclidean distance btw so STUDY UR LIN ALG)\n",
    "    n_results=2\n",
    ")\n",
    "results"
   ],
   "id": "492b7077fe9b56f4",
   "outputs": [
    {
     "data": {
      "text/plain": [
       "{'ids': [['id2', 'id1']],\n",
       " 'embeddings': None,\n",
       " 'documents': [['This test document is about Jakarta',\n",
       "   'This test document is about Shanghai']],\n",
       " 'uris': None,\n",
       " 'data': None,\n",
       " 'metadatas': [[None, None]],\n",
       " 'distances': [[0.6671642065048218, 1.3076496124267578]],\n",
       " 'included': [<IncludeEnum.distances: 'distances'>,\n",
       "  <IncludeEnum.documents: 'documents'>,\n",
       "  <IncludeEnum.metadatas: 'metadatas'>]}"
      ]
     },
     "execution_count": 14,
     "metadata": {},
     "output_type": "execute_result"
    }
   ],
   "execution_count": 14
  },
  {
   "metadata": {
    "ExecuteTime": {
     "end_time": "2024-10-23T17:22:50.291872Z",
     "start_time": "2024-10-23T17:22:50.279861Z"
    }
   },
   "cell_type": "code",
   "source": [
    "# To delete docs\n",
    "collection3.delete(ids=all_docs['ids'])\n",
    "collection3.get()"
   ],
   "id": "e5c871606808d324",
   "outputs": [
    {
     "data": {
      "text/plain": [
       "{'ids': [],\n",
       " 'embeddings': None,\n",
       " 'documents': [],\n",
       " 'uris': None,\n",
       " 'data': None,\n",
       " 'metadatas': [],\n",
       " 'included': [<IncludeEnum.documents: 'documents'>,\n",
       "  <IncludeEnum.metadatas: 'metadatas'>]}"
      ]
     },
     "execution_count": 15,
     "metadata": {},
     "output_type": "execute_result"
    }
   ],
   "execution_count": 15
  },
  {
   "metadata": {
    "ExecuteTime": {
     "end_time": "2024-10-23T17:24:04.853587Z",
     "start_time": "2024-10-23T17:24:04.801035Z"
    }
   },
   "cell_type": "code",
   "source": [
    "# Adding metadata\n",
    "collection3.add(\n",
    "    documents=[\n",
    "        'This test document is about Shanghai',\n",
    "        'This test document is about Jakarta'\n",
    "    ],\n",
    "    ids = ['id1', 'id2'],\n",
    "    metadatas=[\n",
    "        {\"url\": \"https://en.wikipedia.org/wiki/Shanghai\"},\n",
    "        {\"url\": \"https://en.wikipedia.org/wiki/Jakarta\"}\n",
    "    ]\n",
    ")"
   ],
   "id": "3543c43f748a8cca",
   "outputs": [],
   "execution_count": 17
  },
  {
   "metadata": {
    "ExecuteTime": {
     "end_time": "2024-10-23T17:24:29.028264Z",
     "start_time": "2024-10-23T17:24:28.989229Z"
    }
   },
   "cell_type": "code",
   "source": [
    "results = collection3.query(\n",
    "    query_texts=['Query is about Indonesia'], # we can look up documents by providing stuff related to the documents, Vectors! \n",
    "    # (this uses Euclidean distance btw so STUDY UR LIN ALG)\n",
    "    n_results=2\n",
    ")\n",
    "results"
   ],
   "id": "2d27c2fd83ec4803",
   "outputs": [
    {
     "data": {
      "text/plain": [
       "{'ids': [['id2', 'id1']],\n",
       " 'embeddings': None,\n",
       " 'documents': [['This test document is about Jakarta',\n",
       "   'This test document is about Shanghai']],\n",
       " 'uris': None,\n",
       " 'data': None,\n",
       " 'metadatas': [[{'url': 'https://en.wikipedia.org/wiki/Jakarta'},\n",
       "   {'url': 'https://en.wikipedia.org/wiki/Shanghai'}]],\n",
       " 'distances': [[0.6671642065048218, 1.3076496124267578]],\n",
       " 'included': [<IncludeEnum.distances: 'distances'>,\n",
       "  <IncludeEnum.documents: 'documents'>,\n",
       "  <IncludeEnum.metadatas: 'metadatas'>]}"
      ]
     },
     "execution_count": 18,
     "metadata": {},
     "output_type": "execute_result"
    }
   ],
   "execution_count": 18
  },
  {
   "metadata": {},
   "cell_type": "code",
   "outputs": [],
   "execution_count": null,
   "source": "",
   "id": "db0d036491c6fd2d"
  }
 ],
 "metadata": {
  "kernelspec": {
   "display_name": "Python 3",
   "language": "python",
   "name": "python3"
  },
  "language_info": {
   "codemirror_mode": {
    "name": "ipython",
    "version": 2
   },
   "file_extension": ".py",
   "mimetype": "text/x-python",
   "name": "python",
   "nbconvert_exporter": "python",
   "pygments_lexer": "ipython2",
   "version": "2.7.6"
  }
 },
 "nbformat": 4,
 "nbformat_minor": 5
}
